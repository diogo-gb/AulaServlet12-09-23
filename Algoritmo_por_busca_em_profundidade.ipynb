{
  "nbformat": 4,
  "nbformat_minor": 0,
  "metadata": {
    "colab": {
      "provenance": [],
      "authorship_tag": "ABX9TyNm70RMWfJQGAyZFaZfjWkr",
      "include_colab_link": true
    },
    "kernelspec": {
      "name": "python3",
      "display_name": "Python 3"
    },
    "language_info": {
      "name": "python"
    }
  },
  "cells": [
    {
      "cell_type": "markdown",
      "metadata": {
        "id": "view-in-github",
        "colab_type": "text"
      },
      "source": [
        "<a href=\"https://colab.research.google.com/github/diogo-gb/AulaServlet12-09-23/blob/main/Algoritmo_por_busca_em_profundidade.ipynb\" target=\"_parent\"><img src=\"https://colab.research.google.com/assets/colab-badge.svg\" alt=\"Open In Colab\"/></a>"
      ]
    },
    {
      "cell_type": "code",
      "source": [
        "class bpp:\n",
        "\n",
        "  #Criação de uma lista vazia para acrescentar os vértices\n",
        "    def __init__(self):\n",
        "        self.grafo = {}\n",
        "\n",
        "# Adicionando um vértice na lista\n",
        "    def adicionar_vertice(self, vertice):\n",
        "        if vertice not in self.grafo:\n",
        "            self.grafo[vertice] = []\n",
        "\n",
        "#Adicionando aresta, condicionado a ter vértices na lista, assim definindo o vértice inicial e o vértice final\n",
        "    def adicionar_aresta(self, inicio, destino):\n",
        "        if inicio in self.grafo:  # Condição que verifica se há algum vértice na lista\n",
        "            self.grafo[inicio].append(destino)  # Adiciona um vértice como o destino final\n",
        "        else:\n",
        "            self.grafo[inicio] = [destino] # Define o vértice escolhido como destino da aresta formada\n",
        "\n",
        "#Realização da busca em profundidade do grafo\n",
        "    def busca_em_profundidade(self, vertice_inicial):\n",
        "        visitado = set()\n",
        "\n",
        "# A função dfs visita todos os vértices possíveis de acordo com o caminho\n",
        "        def dfs(vertice):\n",
        "            if vertice not in visitado:  # Condição de verificar se o vértice ainda não foi visitado\n",
        "                visitado.add(vertice)  # Visitar o próximo vértice possível\n",
        "                print(vertice)   # Marca o vértice atual como visitado, adicionando-o ao conjunto de visitados.\n",
        "                for vizinho in self.grafo[vertice]:   # Marcar os vértices visitados\n",
        "                    dfs(vizinho)\n",
        "\n",
        "        dfs(vertice_inicial)\n"
      ],
      "metadata": {
        "id": "cGJpZlWVAF1F"
      },
      "execution_count": 6,
      "outputs": []
    },
    {
      "cell_type": "code",
      "source": [
        "#Criação de um grafo de exemplo de aplicação do método\n",
        "grafo = bpp()\n",
        "grafo.adicionar_vertice(\"A\")\n",
        "grafo.adicionar_vertice(\"B\")\n",
        "grafo.adicionar_vertice(\"C\")\n",
        "grafo.adicionar_vertice(\"D\")\n",
        "grafo.adicionar_vertice(\"E\")\n",
        "grafo.adicionar_vertice(\"F\")\n",
        "\n",
        "grafo.adicionar_aresta('A', 'B')\n",
        "grafo.adicionar_aresta('A', 'C')\n",
        "grafo.adicionar_aresta('B', 'D')\n",
        "grafo.adicionar_aresta('B', 'E')\n",
        "grafo.adicionar_aresta('C', 'F')\n",
        "\n",
        "print(\"Busca em Profundidade a partir do vértice B:\")\n",
        "grafo.busca_em_profundidade(\"B\")"
      ],
      "metadata": {
        "colab": {
          "base_uri": "https://localhost:8080/"
        },
        "id": "I-Eg3jkkLuc2",
        "outputId": "d9b37090-58ee-419e-aacf-eeab93ae2b2f"
      },
      "execution_count": 7,
      "outputs": [
        {
          "output_type": "stream",
          "name": "stdout",
          "text": [
            "Busca em Profundidade a partir do vértice B:\n",
            "B\n",
            "D\n",
            "E\n"
          ]
        }
      ]
    }
  ]
}